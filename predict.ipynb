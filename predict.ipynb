{
  "cells": [
    {
      "cell_type": "code",
      "execution_count": null,
      "metadata": {
        "id": "9oztS4R0Dqcj"
      },
      "outputs": [],
      "source": [
        "# サンプルデータセットをダウンロード\n",
        "%cd /content\n",
        "!git clone https://github.com/uedake/yolo_sample\n",
        "%cd yolo_sample\n",
        "!git pull\n",
        "%cd /content"
      ]
    },
    {
      "cell_type": "code",
      "execution_count": null,
      "metadata": {
        "id": "QIlljN9HEDxf"
      },
      "outputs": [],
      "source": [
        "# データセット中のラベルの集計を表示\n",
        "!python yolo_sample/label_stat.py"
      ]
    },
    {
      "cell_type": "code",
      "execution_count": null,
      "metadata": {
        "id": "T8HNEuZ5yeDU"
      },
      "outputs": [],
      "source": [
        "# ライブラリをインストール\n",
        "%pip install -q ultralytics"
      ]
    },
    {
      "cell_type": "markdown",
      "metadata": {
        "id": "-e9EiTZm-o5b"
      },
      "source": []
    },
    {
      "cell_type": "code",
      "execution_count": null,
      "metadata": {},
      "outputs": [],
      "source": [
        "import logging\n",
        "from glob import glob\n",
        "\n",
        "import ultralytics\n",
        "from ultralytics import YOLO\n",
        "from ultralytics.utils import LOGGER\n",
        "from yolo_sample.util import show_all_images\n",
        "\n",
        "model_best = YOLO('yolo_sample/trained/best.onnx',task=\"detect\") # load the trained model\n",
        "LOGGER.setLevel(logging.ERROR)\n",
        "results_best = [model_best(path) for path in glob(\"yolo_sample/dataset/sample1/images/val/*.jpg\")]\n",
        "LOGGER.setLevel(logging.INFO)\n",
        "\n",
        "show_all_images([r[0].plot()[...,::-1] for r in results_best])"
      ]
    },
    {
      "cell_type": "code",
      "execution_count": null,
      "metadata": {},
      "outputs": [],
      "source": [
        "#onnxモデルの推論時間の計測\n",
        "%%timeit -r 10\n",
        "LOGGER.setLevel(logging.ERROR)\n",
        "_ = model_best(glob(\"yolo_sample/dataset/sample1/images/val/*.jpg\")[0])\n",
        "LOGGER.setLevel(logging.INFO)"
      ]
    }
  ],
  "metadata": {
    "accelerator": "GPU",
    "colab": {
      "gpuType": "T4",
      "provenance": []
    },
    "kernelspec": {
      "display_name": "Python 3",
      "name": "python3"
    },
    "language_info": {
      "codemirror_mode": {
        "name": "ipython",
        "version": 3
      },
      "file_extension": ".py",
      "mimetype": "text/x-python",
      "name": "python",
      "nbconvert_exporter": "python",
      "pygments_lexer": "ipython3",
      "version": "3.12.10"
    }
  },
  "nbformat": 4,
  "nbformat_minor": 0
}

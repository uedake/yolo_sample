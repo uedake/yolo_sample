{
  "cells": [
    {
      "cell_type": "code",
      "execution_count": 8,
      "metadata": {
        "id": "9oztS4R0Dqcj"
      },
      "outputs": [
        {
          "name": "stdout",
          "output_type": "stream",
          "text": [
            "[WinError 2] 指定されたファイルが見つかりません。: '/content'\n",
            "c:\\data\\git\\yolo_sample\n",
            "[WinError 2] 指定されたファイルが見つかりません。: 'yolo_sample'\n",
            "c:\\data\\git\\yolo_sample\n"
          ]
        },
        {
          "name": "stderr",
          "output_type": "stream",
          "text": [
            "'git' �́A�����R�}���h�܂��͊O���R�}���h�A\n",
            "����\\�ȃv���O�����܂��̓o�b�` �t�@�C���Ƃ��ĔF������Ă��܂���B\n",
            "'git' �́A�����R�}���h�܂��͊O���R�}���h�A\n",
            "����\\�ȃv���O�����܂��̓o�b�` �t�@�C���Ƃ��ĔF������Ă��܂���B\n"
          ]
        }
      ],
      "source": [
        "# サンプルデータセットをダウンロード\n",
        "%cd /content\n",
        "!git clone https://github.com/uedake/yolo_sample\n",
        "%cd yolo_sample\n",
        "!git pull"
      ]
    },
    {
      "cell_type": "code",
      "execution_count": 5,
      "metadata": {
        "id": "QIlljN9HEDxf"
      },
      "outputs": [
        {
          "name": "stdout",
          "output_type": "stream",
          "text": [
            "             train  val\n",
            "crosswalk       45   45\n",
            "diamond         24   24\n",
            "prohibit         2    2\n",
            "speed30         16   16\n",
            "speed30-inv      4    4\n",
            "speed40          3    3\n",
            "speed40-inv      3    3\n",
            "stop             1    1\n"
          ]
        }
      ],
      "source": [
        "# データセット中のラベルの集計を表示\n",
        "!python label_stat.py"
      ]
    },
    {
      "cell_type": "code",
      "execution_count": null,
      "metadata": {
        "id": "T8HNEuZ5yeDU"
      },
      "outputs": [],
      "source": [
        "# 学習用のライブラリをインストール\n",
        "%pip install -q ultralytics\n",
        "import ultralytics\n",
        "ultralytics.checks()"
      ]
    },
    {
      "cell_type": "markdown",
      "metadata": {},
      "source": []
    },
    {
      "cell_type": "code",
      "execution_count": null,
      "metadata": {
        "id": "SU2Z0JnHHzVc"
      },
      "outputs": [],
      "source": [
        "# 学習結果の確認ツールの起動\n",
        "!yolo settings tensorboard=True\n",
        "%load_ext tensorboard\n",
        "%tensorboard --logdir runs/detect/train"
      ]
    },
    {
      "cell_type": "code",
      "execution_count": null,
      "metadata": {
        "colab": {
          "base_uri": "https://localhost:8080/"
        },
        "id": "tJfY_B8kyf_p",
        "outputId": "6e8841b8-4c4e-47d1-af95-20571bbd3dca"
      },
      "outputs": [],
      "source": [
        "# 学習の実行\n",
        "from ultralytics import YOLO\n",
        "\n",
        "!rm -fr runs/detect/train\n",
        "\n",
        "# load a pretrained model\n",
        "model = YOLO('yolo11n.pt')\n",
        "results = model.train(data='dataset/sample1/custom.yaml', epochs=50)"
      ]
    },
    {
      "cell_type": "code",
      "execution_count": null,
      "metadata": {
        "colab": {
          "base_uri": "https://localhost:8080/",
          "height": 955
        },
        "id": "q85Jh_QOy1iD",
        "outputId": "5dbbb58c-e8df-46b2-c99f-86ec8668af4c"
      },
      "outputs": [],
      "source": [
        "# 学習結果の表示\n",
        "from glob import glob\n",
        "import matplotlib.pyplot as plt\n",
        "import matplotlib.image as mpimg\n",
        "\n",
        "\n",
        "def show_2_images(img1,img2):\n",
        "  fig, axes = plt.subplots(1, 2, figsize=(20, 12))  # 横に2枚、サイズ指定\n",
        "\n",
        "  axes[0].imshow(img1)\n",
        "  axes[0].axis('off')\n",
        "  axes[0].set_title(\"original\")\n",
        "  axes[1].imshow(img2)\n",
        "  axes[1].axis('off')\n",
        "  axes[1].set_title(\"predict\")\n",
        "  plt.tight_layout()\n",
        "  plt.show()\n",
        "\n",
        "for path in glob(\"runs/detect/train3/val_batch*_labels.jpg\"):\n",
        "  show_2_images(mpimg.imread(path),mpimg.imread(path[:-len(\"labels.jpg\")]+\"pred.jpg\"))"
      ]
    },
    {
      "cell_type": "code",
      "execution_count": null,
      "metadata": {
        "colab": {
          "base_uri": "https://localhost:8080/",
          "height": 1000
        },
        "id": "d-GjxOA4Skem",
        "outputId": "1776aab1-66a9-42e9-d988-80a97c686e17"
      },
      "outputs": [],
      "source": [
        "# 学習したモデルを使用した推論の実行\n",
        "import logging\n",
        "from ultralytics.utils import LOGGER\n",
        "\n",
        "def show_all_images(img_list,ncols=4):\n",
        "  r=0\n",
        "  c=0\n",
        "  for img in img_list:\n",
        "    if c==0:\n",
        "      fig, axes = plt.subplots(1, ncols, figsize=(8*ncols,6))\n",
        "    axes[c].imshow(img)\n",
        "    axes[c].axis('off')\n",
        "    c+=1\n",
        "    if c==ncols:\n",
        "      c=0\n",
        "      r+=1\n",
        "  plt.tight_layout()\n",
        "  plt.show()\n",
        "\n",
        "LOGGER.setLevel(logging.ERROR)\n",
        "results = model(glob(\"dataset/sample1/images/val/*.jpg\"))\n",
        "LOGGER.setLevel(logging.INFO)\n",
        "\n",
        "show_all_images([r.plot()[...,::-1] for r in results])"
      ]
    },
    {
      "cell_type": "code",
      "execution_count": null,
      "metadata": {
        "id": "0v5VcrBxVvvd"
      },
      "outputs": [],
      "source": []
    }
  ],
  "metadata": {
    "accelerator": "GPU",
    "colab": {
      "gpuType": "T4",
      "provenance": []
    },
    "kernelspec": {
      "display_name": "Python 3",
      "name": "python3"
    },
    "language_info": {
      "codemirror_mode": {
        "name": "ipython",
        "version": 3
      },
      "file_extension": ".py",
      "mimetype": "text/x-python",
      "name": "python",
      "nbconvert_exporter": "python",
      "pygments_lexer": "ipython3",
      "version": "3.12.10"
    }
  },
  "nbformat": 4,
  "nbformat_minor": 0
}

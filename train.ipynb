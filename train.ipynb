{
  "cells": [
    {
      "cell_type": "code",
      "execution_count": null,
      "metadata": {
        "colab": {
          "base_uri": "https://localhost:8080/"
        },
        "id": "T8HNEuZ5yeDU",
        "outputId": "e4da1aa2-a287-4f3a-d6eb-3e390d2dae75"
      },
      "outputs": [],
      "source": [
        "%pip install ultralytics\n",
        "import ultralytics\n",
        "ultralytics.checks()"
      ]
    },
    {
      "cell_type": "code",
      "execution_count": null,
      "metadata": {
        "colab": {
          "base_uri": "https://localhost:8080/"
        },
        "id": "tJfY_B8kyf_p",
        "outputId": "e3bf8bbe-a551-4c2e-c6a6-23fbd196064a"
      },
      "outputs": [],
      "source": [
        "from ultralytics import YOLO\n",
        "\n",
        "# load a pretrained model\n",
        "model = YOLO('yolo11n.pt')\n",
        "\n",
        "# train the model\n",
        "results = model.train(data='coco8.yaml', epochs=3)\n",
        "\n",
        "# evaluate model performance on the validation set\n",
        "# results = model.val()\n"
      ]
    },
    {
      "cell_type": "code",
      "execution_count": null,
      "metadata": {
        "colab": {
          "base_uri": "https://localhost:8080/",
          "height": 609
        },
        "id": "q85Jh_QOy1iD",
        "outputId": "b894a122-29c5-4e7e-ce37-719104d0e3e1"
      },
      "outputs": [],
      "source": [
        "from PIL import Image\n",
        "from IPython.display import display\n",
        "import matplotlib.pyplot as plt\n",
        "import matplotlib.image as mpimg\n",
        "\n",
        "def show_images(img1,img2):\n",
        "  fig, axes = plt.subplots(1, 2, figsize=(8, 12))  # 横に2枚、サイズ指定\n",
        "\n",
        "  axes[0].imshow(img1)\n",
        "  axes[0].axis('off')\n",
        "  axes[1].imshow(img2)\n",
        "  axes[1].axis('off')\n",
        "  plt.tight_layout()\n",
        "  plt.show()\n",
        "\n",
        "results = model('https://ultralytics.com/images/bus.jpg')  # predict on an image\n",
        "img_with_boxes = results[0].plot()\n",
        "\n",
        "show_images(mpimg.imread(results[0].path),img_with_boxes[...,::-1])"
      ]
    },
    {
      "cell_type": "code",
      "execution_count": null,
      "metadata": {
        "colab": {
          "base_uri": "https://localhost:8080/"
        },
        "id": "XLfyQgYgzfU1",
        "outputId": "31aba6f7-9ce3-411b-af40-03b60bbd2a7b"
      },
      "outputs": [],
      "source": []
    },
    {
      "cell_type": "code",
      "execution_count": null,
      "metadata": {
        "id": "SC9_gTjl4Ivr"
      },
      "outputs": [],
      "source": []
    }
  ],
  "metadata": {
    "colab": {
      "provenance": []
    },
    "kernelspec": {
      "display_name": "Python 3",
      "name": "python3"
    },
    "language_info": {
      "name": "python"
    }
  },
  "nbformat": 4,
  "nbformat_minor": 0
}

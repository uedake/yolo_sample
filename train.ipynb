{
  "cells": [
    {
      "cell_type": "code",
      "execution_count": null,
      "metadata": {
        "id": "9oztS4R0Dqcj"
      },
      "outputs": [],
      "source": [
        "# サンプルデータセットをダウンロード\n",
        "%cd /content\n",
        "!git clone https://github.com/uedake/yolo_sample\n",
        "%cd yolo_sample\n",
        "!git pull"
      ]
    },
    {
      "cell_type": "code",
      "execution_count": null,
      "metadata": {
        "id": "QIlljN9HEDxf"
      },
      "outputs": [],
      "source": [
        "# データセット中のラベルの集計を表示\n",
        "!python label_stat.py"
      ]
    },
    {
      "cell_type": "code",
      "execution_count": null,
      "metadata": {
        "id": "T8HNEuZ5yeDU"
      },
      "outputs": [],
      "source": [
        "# 学習用のライブラリをインストール\n",
        "%pip install -q ultralytics\n",
        "\n",
        "!yolo settings tensorboard=True\n",
        "%load_ext tensorboard"
      ]
    },
    {
      "cell_type": "markdown",
      "metadata": {
        "id": "-e9EiTZm-o5b"
      },
      "source": []
    },
    {
      "cell_type": "code",
      "execution_count": null,
      "metadata": {
        "id": "tJfY_B8kyf_p"
      },
      "outputs": [],
      "source": [
        "# 学習の実行\n",
        "import ultralytics\n",
        "from ultralytics import YOLO\n",
        "\n",
        "ultralytics.checks()\n",
        "model = YOLO('yolo11n.pt') # load a pretrained model\n",
        "model.train(data='dataset/sample1/custom.yaml', exist_ok=True, epochs=60)"
      ]
    },
    {
      "cell_type": "code",
      "execution_count": null,
      "metadata": {
        "id": "d-GjxOA4Skem"
      },
      "outputs": [],
      "source": [
        "# 学習したモデルを使用した推論の実行\n",
        "import logging\n",
        "from ultralytics.utils import LOGGER\n",
        "\n",
        "def show_all_images(img_list,ncols=4):\n",
        "  r=0\n",
        "  c=0\n",
        "  for img in img_list:\n",
        "    if c==0:\n",
        "      fig, axes = plt.subplots(1, ncols, figsize=(8*ncols,6))\n",
        "    axes[c].imshow(img)\n",
        "    axes[c].axis('off')\n",
        "    c+=1\n",
        "    if c==ncols:\n",
        "      c=0\n",
        "      r+=1\n",
        "  plt.tight_layout()\n",
        "  plt.show()\n",
        "\n",
        "LOGGER.setLevel(logging.ERROR)\n",
        "results = model(glob(\"dataset/sample1/images/val/*.jpg\"))\n",
        "LOGGER.setLevel(logging.INFO)\n",
        "\n",
        "show_all_images([r.plot()[...,::-1] for r in results])"
      ]
    },
    {
      "cell_type": "code",
      "execution_count": null,
      "metadata": {
        "id": "q85Jh_QOy1iD"
      },
      "outputs": [],
      "source": [
        "# 参考：学習時の評価で使用された画像の表示\n",
        "from glob import glob\n",
        "import matplotlib.pyplot as plt\n",
        "import matplotlib.image as mpimg\n",
        "\n",
        "\n",
        "def show_2_images(img1,img2):\n",
        "  fig, axes = plt.subplots(1, 2, figsize=(20, 12))  # 横に2枚、サイズ指定\n",
        "\n",
        "  axes[0].imshow(img1)\n",
        "  axes[0].axis('off')\n",
        "  axes[0].set_title(\"original\")\n",
        "  axes[1].imshow(img2)\n",
        "  axes[1].axis('off')\n",
        "  axes[1].set_title(\"predict\")\n",
        "  plt.tight_layout()\n",
        "  plt.show()\n",
        "\n",
        "for path in glob(\"runs/detect/train/val_batch*_labels.jpg\"):\n",
        "  show_2_images(mpimg.imread(path),mpimg.imread(path[:-len(\"labels.jpg\")]+\"pred.jpg\"))"
      ]
    },
    {
      "cell_type": "code",
      "execution_count": null,
      "metadata": {
        "id": "SU2Z0JnHHzVc"
      },
      "outputs": [],
      "source": [
        "# 参考：学習結果の確認ツールの起動\n",
        "%tensorboard --logdir runs"
      ]
    }
  ],
  "metadata": {
    "accelerator": "GPU",
    "colab": {
      "gpuType": "T4",
      "provenance": []
    },
    "kernelspec": {
      "display_name": "Python 3",
      "name": "python3"
    },
    "language_info": {
      "codemirror_mode": {
        "name": "ipython",
        "version": 3
      },
      "file_extension": ".py",
      "mimetype": "text/x-python",
      "name": "python",
      "nbconvert_exporter": "python",
      "pygments_lexer": "ipython3",
      "version": "3.12.10"
    }
  },
  "nbformat": 4,
  "nbformat_minor": 0
}
